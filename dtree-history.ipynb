{
 "cells": [
  {
   "cell_type": "code",
   "execution_count": null,
   "metadata": {},
   "outputs": [],
   "source": [
    "# Predizer o modelo do carro com base\n",
    "# na capacidade total da bateria, tempo de vida do carro;\n",
    "# taxa de carga, temperatura e tipo do carregador\n",
    "\n",
    "# Trainig accuracy:    100.0%\n",
    "# Validation accuracy:  20.9% \n",
    "\n",
    "df[\"charger_type\"] = df[\"charger_type\"]  .replace({\n",
    "    'DC Fast Charger': 3,\n",
    "    'Level 2': 2,\n",
    "    'Level 1': 1,\n",
    "})\n",
    "\n",
    "X = np.array(df[[ \"battery_capacity_kwh\", \"vehicle_age_years\", \"charging_rate_kw\", \"temperature_c\", \"charger_type\" ]])\n",
    "\n",
    "# Criando um vetor com as espécies de todos os registros de flores\n",
    "y = np.array(df['vehicle_model'])\n",
    "\n"
   ]
  },
  {
   "cell_type": "code",
   "execution_count": null,
   "metadata": {},
   "outputs": [],
   "source": []
  },
  {
   "cell_type": "code",
   "execution_count": null,
   "metadata": {},
   "outputs": [],
   "source": []
  }
 ],
 "metadata": {
  "language_info": {
   "name": "python"
  }
 },
 "nbformat": 4,
 "nbformat_minor": 2
}
