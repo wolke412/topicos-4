{
 "cells": [
  {
   "cell_type": "markdown",
   "metadata": {},
   "source": [
    "# Importando as bibliotecas iniciais necessárias"
   ]
  },
  {
   "cell_type": "code",
   "execution_count": 44,
   "metadata": {},
   "outputs": [],
   "source": [
    "import pandas as pd\n",
    "import numpy as np\n",
    "\n",
    "import seaborn as sns\n",
    "import matplotlib.pyplot as plt"
   ]
  },
  {
   "cell_type": "markdown",
   "metadata": {},
   "source": [
    "# Importando a base de dados"
   ]
  },
  {
   "cell_type": "code",
   "execution_count": 45,
   "metadata": {},
   "outputs": [],
   "source": [
    "df = pd.read_csv('dataset/ev_charging_patterns.csv')\n",
    "# print(df)"
   ]
  },
  {
   "cell_type": "markdown",
   "metadata": {},
   "source": [
    "# Organizando os conjuntos de treinamento e teste"
   ]
  },
  {
   "cell_type": "code",
   "execution_count": 27,
   "metadata": {
    "scrolled": true
   },
   "outputs": [
    {
     "data": {
      "text/plain": [
       "array([['User_1', 'BMW i3', 108.46300741284072, 'Station_391'],\n",
       "       ['User_2', 'Hyundai Kona', 100.0, 'Station_428'],\n",
       "       ['User_3', 'Chevy Bolt', 75.0, 'Station_181'],\n",
       "       ['User_4', 'Hyundai Kona', 50.0, 'Station_327'],\n",
       "       ['User_5', 'Hyundai Kona', 50.0, 'Station_108']], dtype=object)"
      ]
     },
     "execution_count": 27,
     "metadata": {},
     "output_type": "execute_result"
    }
   ],
   "source": [
    "# Como funciona o iloc\n",
    "np.array(df.iloc[0:5, 0:4])"
   ]
  },
  {
   "cell_type": "code",
   "execution_count": null,
   "metadata": {},
   "outputs": [],
   "source": []
  },
  {
   "cell_type": "code",
   "execution_count": null,
   "metadata": {},
   "outputs": [],
   "source": []
  },
  {
   "cell_type": "code",
   "execution_count": 28,
   "metadata": {},
   "outputs": [],
   "source": [
    "df[\"charger_type\"] = df[\"charger_type\"].astype('category').cat.codes\n",
    "df[\"vehicle_model\"] = df[\"vehicle_model\"].astype('category').cat.codes\n",
    "df[\"time_of_day\"] = df[\"time_of_day\"].astype('category').cat.codes\n",
    "# df['charging_start_time'] = pd.to_datetime(df['charging_start_time'])\n",
    "# df['charging_end_time'] = pd.to_datetime(df['charging_end_time'])\n",
    "\n",
    "\n",
    "X = np.array(df[[ \n",
    "        # \"vehicle_model\",\n",
    "        \"distance_driven_since_last_charge_km\",\n",
    "        \"charging_cost_usd\",\n",
    "        # \"battery_capacity_kwh\",\n",
    "        # \"charging_start_time\",\n",
    "        # \"charging_end_time\",\n",
    "        # \"time_of_day\",\n",
    "        \"state_of_charge_start_%\",\n",
    "        \"state_of_charge_end_%\"\n",
    "        # \"temperature_c\"\n",
    "]])\n",
    "\n",
    "# Criando um vetor com as espécies de todos os registros de flores\n",
    "y = np.array(df['user_type'])\n"
   ]
  },
  {
   "cell_type": "code",
   "execution_count": 29,
   "metadata": {},
   "outputs": [],
   "source": [
    "from sklearn.model_selection import train_test_split\n",
    "\n",
    "# Dividindo os conjuntos de treinamento e teste\n",
    "X_treinamento, X_teste, y_treinamento, y_teste = train_test_split(X, y, test_size=0.3)"
   ]
  },
  {
   "cell_type": "code",
   "execution_count": 30,
   "metadata": {},
   "outputs": [
    {
     "name": "stdout",
     "output_type": "stream",
     "text": [
      "(924, 4)\n",
      "[[240.79521178  13.09959827  78.27386156  76.89957103]\n",
      " [156.41701742  26.22041153  74.68253406  64.64710567]\n",
      " [ 36.42403857  29.02733721  49.92314429  56.18148263]\n",
      " [280.97620242  21.90827594  28.90083255  97.35343585]\n",
      " [ 46.81290396  36.29871225  75.48580234  56.12136493]]\n"
     ]
    }
   ],
   "source": [
    "print(X_treinamento.shape)\n",
    "print(X_treinamento[0:5,])"
   ]
  },
  {
   "cell_type": "code",
   "execution_count": 31,
   "metadata": {},
   "outputs": [
    {
     "name": "stdout",
     "output_type": "stream",
     "text": [
      "(396, 4)\n"
     ]
    }
   ],
   "source": [
    "print(X_teste.shape)\n",
    "# print(X_teste[0:5,])"
   ]
  },
  {
   "cell_type": "code",
   "execution_count": 32,
   "metadata": {},
   "outputs": [
    {
     "name": "stdout",
     "output_type": "stream",
     "text": [
      "(924,)\n"
     ]
    }
   ],
   "source": [
    "print(y_treinamento.shape)\n",
    "# print(y_treinamento[0:5,])"
   ]
  },
  {
   "cell_type": "code",
   "execution_count": 33,
   "metadata": {},
   "outputs": [
    {
     "name": "stdout",
     "output_type": "stream",
     "text": [
      "(396,)\n",
      "['Commuter' 'Commuter' 'Casual Driver' 'Commuter' 'Commuter']\n"
     ]
    }
   ],
   "source": [
    "print(y_teste.shape)\n",
    "print(y_teste[0:5],)"
   ]
  },
  {
   "cell_type": "markdown",
   "metadata": {},
   "source": [
    "# Importando a biblioteca necessária para trabalhar com Árvores de Decisão"
   ]
  },
  {
   "cell_type": "code",
   "execution_count": 34,
   "metadata": {},
   "outputs": [],
   "source": [
    "from sklearn import tree"
   ]
  },
  {
   "cell_type": "markdown",
   "metadata": {},
   "source": [
    "# Configurando o modelo a ser induzido"
   ]
  },
  {
   "cell_type": "code",
   "execution_count": 35,
   "metadata": {},
   "outputs": [],
   "source": [
    "modeloarvoredecisao = tree.DecisionTreeClassifier(criterion='entropy') "
   ]
  },
  {
   "cell_type": "markdown",
   "metadata": {},
   "source": [
    "# Treinando o modelo"
   ]
  },
  {
   "cell_type": "code",
   "execution_count": 36,
   "metadata": {},
   "outputs": [
    {
     "data": {
      "text/html": [
       "<style>#sk-container-id-2 {\n",
       "  /* Definition of color scheme common for light and dark mode */\n",
       "  --sklearn-color-text: black;\n",
       "  --sklearn-color-line: gray;\n",
       "  /* Definition of color scheme for unfitted estimators */\n",
       "  --sklearn-color-unfitted-level-0: #fff5e6;\n",
       "  --sklearn-color-unfitted-level-1: #f6e4d2;\n",
       "  --sklearn-color-unfitted-level-2: #ffe0b3;\n",
       "  --sklearn-color-unfitted-level-3: chocolate;\n",
       "  /* Definition of color scheme for fitted estimators */\n",
       "  --sklearn-color-fitted-level-0: #f0f8ff;\n",
       "  --sklearn-color-fitted-level-1: #d4ebff;\n",
       "  --sklearn-color-fitted-level-2: #b3dbfd;\n",
       "  --sklearn-color-fitted-level-3: cornflowerblue;\n",
       "\n",
       "  /* Specific color for light theme */\n",
       "  --sklearn-color-text-on-default-background: var(--sg-text-color, var(--theme-code-foreground, var(--jp-content-font-color1, black)));\n",
       "  --sklearn-color-background: var(--sg-background-color, var(--theme-background, var(--jp-layout-color0, white)));\n",
       "  --sklearn-color-border-box: var(--sg-text-color, var(--theme-code-foreground, var(--jp-content-font-color1, black)));\n",
       "  --sklearn-color-icon: #696969;\n",
       "\n",
       "  @media (prefers-color-scheme: dark) {\n",
       "    /* Redefinition of color scheme for dark theme */\n",
       "    --sklearn-color-text-on-default-background: var(--sg-text-color, var(--theme-code-foreground, var(--jp-content-font-color1, white)));\n",
       "    --sklearn-color-background: var(--sg-background-color, var(--theme-background, var(--jp-layout-color0, #111)));\n",
       "    --sklearn-color-border-box: var(--sg-text-color, var(--theme-code-foreground, var(--jp-content-font-color1, white)));\n",
       "    --sklearn-color-icon: #878787;\n",
       "  }\n",
       "}\n",
       "\n",
       "#sk-container-id-2 {\n",
       "  color: var(--sklearn-color-text);\n",
       "}\n",
       "\n",
       "#sk-container-id-2 pre {\n",
       "  padding: 0;\n",
       "}\n",
       "\n",
       "#sk-container-id-2 input.sk-hidden--visually {\n",
       "  border: 0;\n",
       "  clip: rect(1px 1px 1px 1px);\n",
       "  clip: rect(1px, 1px, 1px, 1px);\n",
       "  height: 1px;\n",
       "  margin: -1px;\n",
       "  overflow: hidden;\n",
       "  padding: 0;\n",
       "  position: absolute;\n",
       "  width: 1px;\n",
       "}\n",
       "\n",
       "#sk-container-id-2 div.sk-dashed-wrapped {\n",
       "  border: 1px dashed var(--sklearn-color-line);\n",
       "  margin: 0 0.4em 0.5em 0.4em;\n",
       "  box-sizing: border-box;\n",
       "  padding-bottom: 0.4em;\n",
       "  background-color: var(--sklearn-color-background);\n",
       "}\n",
       "\n",
       "#sk-container-id-2 div.sk-container {\n",
       "  /* jupyter's `normalize.less` sets `[hidden] { display: none; }`\n",
       "     but bootstrap.min.css set `[hidden] { display: none !important; }`\n",
       "     so we also need the `!important` here to be able to override the\n",
       "     default hidden behavior on the sphinx rendered scikit-learn.org.\n",
       "     See: https://github.com/scikit-learn/scikit-learn/issues/21755 */\n",
       "  display: inline-block !important;\n",
       "  position: relative;\n",
       "}\n",
       "\n",
       "#sk-container-id-2 div.sk-text-repr-fallback {\n",
       "  display: none;\n",
       "}\n",
       "\n",
       "div.sk-parallel-item,\n",
       "div.sk-serial,\n",
       "div.sk-item {\n",
       "  /* draw centered vertical line to link estimators */\n",
       "  background-image: linear-gradient(var(--sklearn-color-text-on-default-background), var(--sklearn-color-text-on-default-background));\n",
       "  background-size: 2px 100%;\n",
       "  background-repeat: no-repeat;\n",
       "  background-position: center center;\n",
       "}\n",
       "\n",
       "/* Parallel-specific style estimator block */\n",
       "\n",
       "#sk-container-id-2 div.sk-parallel-item::after {\n",
       "  content: \"\";\n",
       "  width: 100%;\n",
       "  border-bottom: 2px solid var(--sklearn-color-text-on-default-background);\n",
       "  flex-grow: 1;\n",
       "}\n",
       "\n",
       "#sk-container-id-2 div.sk-parallel {\n",
       "  display: flex;\n",
       "  align-items: stretch;\n",
       "  justify-content: center;\n",
       "  background-color: var(--sklearn-color-background);\n",
       "  position: relative;\n",
       "}\n",
       "\n",
       "#sk-container-id-2 div.sk-parallel-item {\n",
       "  display: flex;\n",
       "  flex-direction: column;\n",
       "}\n",
       "\n",
       "#sk-container-id-2 div.sk-parallel-item:first-child::after {\n",
       "  align-self: flex-end;\n",
       "  width: 50%;\n",
       "}\n",
       "\n",
       "#sk-container-id-2 div.sk-parallel-item:last-child::after {\n",
       "  align-self: flex-start;\n",
       "  width: 50%;\n",
       "}\n",
       "\n",
       "#sk-container-id-2 div.sk-parallel-item:only-child::after {\n",
       "  width: 0;\n",
       "}\n",
       "\n",
       "/* Serial-specific style estimator block */\n",
       "\n",
       "#sk-container-id-2 div.sk-serial {\n",
       "  display: flex;\n",
       "  flex-direction: column;\n",
       "  align-items: center;\n",
       "  background-color: var(--sklearn-color-background);\n",
       "  padding-right: 1em;\n",
       "  padding-left: 1em;\n",
       "}\n",
       "\n",
       "\n",
       "/* Toggleable style: style used for estimator/Pipeline/ColumnTransformer box that is\n",
       "clickable and can be expanded/collapsed.\n",
       "- Pipeline and ColumnTransformer use this feature and define the default style\n",
       "- Estimators will overwrite some part of the style using the `sk-estimator` class\n",
       "*/\n",
       "\n",
       "/* Pipeline and ColumnTransformer style (default) */\n",
       "\n",
       "#sk-container-id-2 div.sk-toggleable {\n",
       "  /* Default theme specific background. It is overwritten whether we have a\n",
       "  specific estimator or a Pipeline/ColumnTransformer */\n",
       "  background-color: var(--sklearn-color-background);\n",
       "}\n",
       "\n",
       "/* Toggleable label */\n",
       "#sk-container-id-2 label.sk-toggleable__label {\n",
       "  cursor: pointer;\n",
       "  display: block;\n",
       "  width: 100%;\n",
       "  margin-bottom: 0;\n",
       "  padding: 0.5em;\n",
       "  box-sizing: border-box;\n",
       "  text-align: center;\n",
       "}\n",
       "\n",
       "#sk-container-id-2 label.sk-toggleable__label-arrow:before {\n",
       "  /* Arrow on the left of the label */\n",
       "  content: \"▸\";\n",
       "  float: left;\n",
       "  margin-right: 0.25em;\n",
       "  color: var(--sklearn-color-icon);\n",
       "}\n",
       "\n",
       "#sk-container-id-2 label.sk-toggleable__label-arrow:hover:before {\n",
       "  color: var(--sklearn-color-text);\n",
       "}\n",
       "\n",
       "/* Toggleable content - dropdown */\n",
       "\n",
       "#sk-container-id-2 div.sk-toggleable__content {\n",
       "  max-height: 0;\n",
       "  max-width: 0;\n",
       "  overflow: hidden;\n",
       "  text-align: left;\n",
       "  /* unfitted */\n",
       "  background-color: var(--sklearn-color-unfitted-level-0);\n",
       "}\n",
       "\n",
       "#sk-container-id-2 div.sk-toggleable__content.fitted {\n",
       "  /* fitted */\n",
       "  background-color: var(--sklearn-color-fitted-level-0);\n",
       "}\n",
       "\n",
       "#sk-container-id-2 div.sk-toggleable__content pre {\n",
       "  margin: 0.2em;\n",
       "  border-radius: 0.25em;\n",
       "  color: var(--sklearn-color-text);\n",
       "  /* unfitted */\n",
       "  background-color: var(--sklearn-color-unfitted-level-0);\n",
       "}\n",
       "\n",
       "#sk-container-id-2 div.sk-toggleable__content.fitted pre {\n",
       "  /* unfitted */\n",
       "  background-color: var(--sklearn-color-fitted-level-0);\n",
       "}\n",
       "\n",
       "#sk-container-id-2 input.sk-toggleable__control:checked~div.sk-toggleable__content {\n",
       "  /* Expand drop-down */\n",
       "  max-height: 200px;\n",
       "  max-width: 100%;\n",
       "  overflow: auto;\n",
       "}\n",
       "\n",
       "#sk-container-id-2 input.sk-toggleable__control:checked~label.sk-toggleable__label-arrow:before {\n",
       "  content: \"▾\";\n",
       "}\n",
       "\n",
       "/* Pipeline/ColumnTransformer-specific style */\n",
       "\n",
       "#sk-container-id-2 div.sk-label input.sk-toggleable__control:checked~label.sk-toggleable__label {\n",
       "  color: var(--sklearn-color-text);\n",
       "  background-color: var(--sklearn-color-unfitted-level-2);\n",
       "}\n",
       "\n",
       "#sk-container-id-2 div.sk-label.fitted input.sk-toggleable__control:checked~label.sk-toggleable__label {\n",
       "  background-color: var(--sklearn-color-fitted-level-2);\n",
       "}\n",
       "\n",
       "/* Estimator-specific style */\n",
       "\n",
       "/* Colorize estimator box */\n",
       "#sk-container-id-2 div.sk-estimator input.sk-toggleable__control:checked~label.sk-toggleable__label {\n",
       "  /* unfitted */\n",
       "  background-color: var(--sklearn-color-unfitted-level-2);\n",
       "}\n",
       "\n",
       "#sk-container-id-2 div.sk-estimator.fitted input.sk-toggleable__control:checked~label.sk-toggleable__label {\n",
       "  /* fitted */\n",
       "  background-color: var(--sklearn-color-fitted-level-2);\n",
       "}\n",
       "\n",
       "#sk-container-id-2 div.sk-label label.sk-toggleable__label,\n",
       "#sk-container-id-2 div.sk-label label {\n",
       "  /* The background is the default theme color */\n",
       "  color: var(--sklearn-color-text-on-default-background);\n",
       "}\n",
       "\n",
       "/* On hover, darken the color of the background */\n",
       "#sk-container-id-2 div.sk-label:hover label.sk-toggleable__label {\n",
       "  color: var(--sklearn-color-text);\n",
       "  background-color: var(--sklearn-color-unfitted-level-2);\n",
       "}\n",
       "\n",
       "/* Label box, darken color on hover, fitted */\n",
       "#sk-container-id-2 div.sk-label.fitted:hover label.sk-toggleable__label.fitted {\n",
       "  color: var(--sklearn-color-text);\n",
       "  background-color: var(--sklearn-color-fitted-level-2);\n",
       "}\n",
       "\n",
       "/* Estimator label */\n",
       "\n",
       "#sk-container-id-2 div.sk-label label {\n",
       "  font-family: monospace;\n",
       "  font-weight: bold;\n",
       "  display: inline-block;\n",
       "  line-height: 1.2em;\n",
       "}\n",
       "\n",
       "#sk-container-id-2 div.sk-label-container {\n",
       "  text-align: center;\n",
       "}\n",
       "\n",
       "/* Estimator-specific */\n",
       "#sk-container-id-2 div.sk-estimator {\n",
       "  font-family: monospace;\n",
       "  border: 1px dotted var(--sklearn-color-border-box);\n",
       "  border-radius: 0.25em;\n",
       "  box-sizing: border-box;\n",
       "  margin-bottom: 0.5em;\n",
       "  /* unfitted */\n",
       "  background-color: var(--sklearn-color-unfitted-level-0);\n",
       "}\n",
       "\n",
       "#sk-container-id-2 div.sk-estimator.fitted {\n",
       "  /* fitted */\n",
       "  background-color: var(--sklearn-color-fitted-level-0);\n",
       "}\n",
       "\n",
       "/* on hover */\n",
       "#sk-container-id-2 div.sk-estimator:hover {\n",
       "  /* unfitted */\n",
       "  background-color: var(--sklearn-color-unfitted-level-2);\n",
       "}\n",
       "\n",
       "#sk-container-id-2 div.sk-estimator.fitted:hover {\n",
       "  /* fitted */\n",
       "  background-color: var(--sklearn-color-fitted-level-2);\n",
       "}\n",
       "\n",
       "/* Specification for estimator info (e.g. \"i\" and \"?\") */\n",
       "\n",
       "/* Common style for \"i\" and \"?\" */\n",
       "\n",
       ".sk-estimator-doc-link,\n",
       "a:link.sk-estimator-doc-link,\n",
       "a:visited.sk-estimator-doc-link {\n",
       "  float: right;\n",
       "  font-size: smaller;\n",
       "  line-height: 1em;\n",
       "  font-family: monospace;\n",
       "  background-color: var(--sklearn-color-background);\n",
       "  border-radius: 1em;\n",
       "  height: 1em;\n",
       "  width: 1em;\n",
       "  text-decoration: none !important;\n",
       "  margin-left: 1ex;\n",
       "  /* unfitted */\n",
       "  border: var(--sklearn-color-unfitted-level-1) 1pt solid;\n",
       "  color: var(--sklearn-color-unfitted-level-1);\n",
       "}\n",
       "\n",
       ".sk-estimator-doc-link.fitted,\n",
       "a:link.sk-estimator-doc-link.fitted,\n",
       "a:visited.sk-estimator-doc-link.fitted {\n",
       "  /* fitted */\n",
       "  border: var(--sklearn-color-fitted-level-1) 1pt solid;\n",
       "  color: var(--sklearn-color-fitted-level-1);\n",
       "}\n",
       "\n",
       "/* On hover */\n",
       "div.sk-estimator:hover .sk-estimator-doc-link:hover,\n",
       ".sk-estimator-doc-link:hover,\n",
       "div.sk-label-container:hover .sk-estimator-doc-link:hover,\n",
       ".sk-estimator-doc-link:hover {\n",
       "  /* unfitted */\n",
       "  background-color: var(--sklearn-color-unfitted-level-3);\n",
       "  color: var(--sklearn-color-background);\n",
       "  text-decoration: none;\n",
       "}\n",
       "\n",
       "div.sk-estimator.fitted:hover .sk-estimator-doc-link.fitted:hover,\n",
       ".sk-estimator-doc-link.fitted:hover,\n",
       "div.sk-label-container:hover .sk-estimator-doc-link.fitted:hover,\n",
       ".sk-estimator-doc-link.fitted:hover {\n",
       "  /* fitted */\n",
       "  background-color: var(--sklearn-color-fitted-level-3);\n",
       "  color: var(--sklearn-color-background);\n",
       "  text-decoration: none;\n",
       "}\n",
       "\n",
       "/* Span, style for the box shown on hovering the info icon */\n",
       ".sk-estimator-doc-link span {\n",
       "  display: none;\n",
       "  z-index: 9999;\n",
       "  position: relative;\n",
       "  font-weight: normal;\n",
       "  right: .2ex;\n",
       "  padding: .5ex;\n",
       "  margin: .5ex;\n",
       "  width: min-content;\n",
       "  min-width: 20ex;\n",
       "  max-width: 50ex;\n",
       "  color: var(--sklearn-color-text);\n",
       "  box-shadow: 2pt 2pt 4pt #999;\n",
       "  /* unfitted */\n",
       "  background: var(--sklearn-color-unfitted-level-0);\n",
       "  border: .5pt solid var(--sklearn-color-unfitted-level-3);\n",
       "}\n",
       "\n",
       ".sk-estimator-doc-link.fitted span {\n",
       "  /* fitted */\n",
       "  background: var(--sklearn-color-fitted-level-0);\n",
       "  border: var(--sklearn-color-fitted-level-3);\n",
       "}\n",
       "\n",
       ".sk-estimator-doc-link:hover span {\n",
       "  display: block;\n",
       "}\n",
       "\n",
       "/* \"?\"-specific style due to the `<a>` HTML tag */\n",
       "\n",
       "#sk-container-id-2 a.estimator_doc_link {\n",
       "  float: right;\n",
       "  font-size: 1rem;\n",
       "  line-height: 1em;\n",
       "  font-family: monospace;\n",
       "  background-color: var(--sklearn-color-background);\n",
       "  border-radius: 1rem;\n",
       "  height: 1rem;\n",
       "  width: 1rem;\n",
       "  text-decoration: none;\n",
       "  /* unfitted */\n",
       "  color: var(--sklearn-color-unfitted-level-1);\n",
       "  border: var(--sklearn-color-unfitted-level-1) 1pt solid;\n",
       "}\n",
       "\n",
       "#sk-container-id-2 a.estimator_doc_link.fitted {\n",
       "  /* fitted */\n",
       "  border: var(--sklearn-color-fitted-level-1) 1pt solid;\n",
       "  color: var(--sklearn-color-fitted-level-1);\n",
       "}\n",
       "\n",
       "/* On hover */\n",
       "#sk-container-id-2 a.estimator_doc_link:hover {\n",
       "  /* unfitted */\n",
       "  background-color: var(--sklearn-color-unfitted-level-3);\n",
       "  color: var(--sklearn-color-background);\n",
       "  text-decoration: none;\n",
       "}\n",
       "\n",
       "#sk-container-id-2 a.estimator_doc_link.fitted:hover {\n",
       "  /* fitted */\n",
       "  background-color: var(--sklearn-color-fitted-level-3);\n",
       "}\n",
       "</style><div id=\"sk-container-id-2\" class=\"sk-top-container\"><div class=\"sk-text-repr-fallback\"><pre>DecisionTreeClassifier(criterion=&#x27;entropy&#x27;)</pre><b>In a Jupyter environment, please rerun this cell to show the HTML representation or trust the notebook. <br />On GitHub, the HTML representation is unable to render, please try loading this page with nbviewer.org.</b></div><div class=\"sk-container\" hidden><div class=\"sk-item\"><div class=\"sk-estimator fitted sk-toggleable\"><input class=\"sk-toggleable__control sk-hidden--visually\" id=\"sk-estimator-id-2\" type=\"checkbox\" checked><label for=\"sk-estimator-id-2\" class=\"sk-toggleable__label fitted sk-toggleable__label-arrow fitted\">&nbsp;&nbsp;DecisionTreeClassifier<a class=\"sk-estimator-doc-link fitted\" rel=\"noreferrer\" target=\"_blank\" href=\"https://scikit-learn.org/1.5/modules/generated/sklearn.tree.DecisionTreeClassifier.html\">?<span>Documentation for DecisionTreeClassifier</span></a><span class=\"sk-estimator-doc-link fitted\">i<span>Fitted</span></span></label><div class=\"sk-toggleable__content fitted\"><pre>DecisionTreeClassifier(criterion=&#x27;entropy&#x27;)</pre></div> </div></div></div></div>"
      ],
      "text/plain": [
       "DecisionTreeClassifier(criterion='entropy')"
      ]
     },
     "execution_count": 36,
     "metadata": {},
     "output_type": "execute_result"
    }
   ],
   "source": [
    "modeloarvoredecisao.fit(X_treinamento, y_treinamento)"
   ]
  },
  {
   "cell_type": "markdown",
   "metadata": {},
   "source": [
    "# Verificando score do modelo"
   ]
  },
  {
   "cell_type": "code",
   "execution_count": 37,
   "metadata": {},
   "outputs": [
    {
     "data": {
      "text/plain": [
       "0.9956709956709957"
      ]
     },
     "execution_count": 37,
     "metadata": {},
     "output_type": "execute_result"
    }
   ],
   "source": [
    "modeloarvoredecisao.score(X_treinamento, y_treinamento)"
   ]
  },
  {
   "cell_type": "markdown",
   "metadata": {},
   "source": [
    "# Fazendo a predição com o modelo induzido (dedução)"
   ]
  },
  {
   "cell_type": "code",
   "execution_count": 38,
   "metadata": {},
   "outputs": [
    {
     "name": "stdout",
     "output_type": "stream",
     "text": [
      "['Commuter' 'Commuter' 'Long-Distance Traveler' 'Long-Distance Traveler'\n",
      " 'Long-Distance Traveler' 'Long-Distance Traveler' 'Commuter' 'Commuter'\n",
      " 'Commuter' 'Casual Driver' 'Casual Driver' 'Casual Driver'\n",
      " 'Long-Distance Traveler' 'Casual Driver' 'Casual Driver' 'Casual Driver'\n",
      " 'Casual Driver' 'Commuter' 'Commuter' 'Casual Driver'\n",
      " 'Long-Distance Traveler' 'Commuter' 'Commuter' 'Commuter' 'Commuter'\n",
      " 'Long-Distance Traveler' 'Commuter' 'Commuter' 'Casual Driver'\n",
      " 'Long-Distance Traveler' 'Commuter' 'Commuter' 'Long-Distance Traveler'\n",
      " 'Casual Driver' 'Long-Distance Traveler' 'Casual Driver' 'Commuter'\n",
      " 'Commuter' 'Long-Distance Traveler' 'Long-Distance Traveler'\n",
      " 'Casual Driver' 'Casual Driver' 'Long-Distance Traveler' 'Commuter'\n",
      " 'Commuter' 'Commuter' 'Casual Driver' 'Commuter' 'Long-Distance Traveler'\n",
      " 'Commuter' 'Casual Driver' 'Long-Distance Traveler' 'Commuter'\n",
      " 'Long-Distance Traveler' 'Long-Distance Traveler' 'Commuter'\n",
      " 'Casual Driver' 'Long-Distance Traveler' 'Casual Driver' 'Casual Driver'\n",
      " 'Long-Distance Traveler' 'Long-Distance Traveler' 'Commuter'\n",
      " 'Long-Distance Traveler' 'Casual Driver' 'Long-Distance Traveler'\n",
      " 'Long-Distance Traveler' 'Casual Driver' 'Long-Distance Traveler'\n",
      " 'Casual Driver' 'Casual Driver' 'Casual Driver' 'Casual Driver'\n",
      " 'Long-Distance Traveler' 'Casual Driver' 'Long-Distance Traveler'\n",
      " 'Long-Distance Traveler' 'Long-Distance Traveler' 'Casual Driver'\n",
      " 'Commuter' 'Commuter' 'Long-Distance Traveler' 'Casual Driver'\n",
      " 'Casual Driver' 'Long-Distance Traveler' 'Long-Distance Traveler'\n",
      " 'Casual Driver' 'Commuter' 'Long-Distance Traveler' 'Casual Driver'\n",
      " 'Long-Distance Traveler' 'Long-Distance Traveler'\n",
      " 'Long-Distance Traveler' 'Commuter' 'Long-Distance Traveler'\n",
      " 'Casual Driver' 'Long-Distance Traveler' 'Commuter' 'Commuter'\n",
      " 'Long-Distance Traveler' 'Commuter' 'Long-Distance Traveler' 'Commuter'\n",
      " 'Commuter' 'Long-Distance Traveler' 'Commuter' 'Commuter' 'Casual Driver'\n",
      " 'Casual Driver' 'Commuter' 'Commuter' 'Commuter' 'Commuter' 'Commuter'\n",
      " 'Casual Driver' 'Commuter' 'Casual Driver' 'Casual Driver' 'Commuter'\n",
      " 'Casual Driver' 'Casual Driver' 'Casual Driver' 'Long-Distance Traveler'\n",
      " 'Casual Driver' 'Commuter' 'Commuter' 'Commuter' 'Commuter'\n",
      " 'Casual Driver' 'Long-Distance Traveler' 'Casual Driver'\n",
      " 'Long-Distance Traveler' 'Commuter' 'Long-Distance Traveler'\n",
      " 'Casual Driver' 'Casual Driver' 'Long-Distance Traveler' 'Casual Driver'\n",
      " 'Casual Driver' 'Long-Distance Traveler' 'Casual Driver'\n",
      " 'Long-Distance Traveler' 'Long-Distance Traveler' 'Casual Driver'\n",
      " 'Commuter' 'Casual Driver' 'Commuter' 'Commuter' 'Commuter' 'Commuter'\n",
      " 'Long-Distance Traveler' 'Casual Driver' 'Commuter'\n",
      " 'Long-Distance Traveler' 'Long-Distance Traveler'\n",
      " 'Long-Distance Traveler' 'Casual Driver' 'Long-Distance Traveler'\n",
      " 'Casual Driver' 'Commuter' 'Long-Distance Traveler'\n",
      " 'Long-Distance Traveler' 'Commuter' 'Commuter' 'Casual Driver'\n",
      " 'Long-Distance Traveler' 'Long-Distance Traveler' 'Commuter'\n",
      " 'Casual Driver' 'Long-Distance Traveler' 'Long-Distance Traveler'\n",
      " 'Commuter' 'Commuter' 'Casual Driver' 'Casual Driver'\n",
      " 'Long-Distance Traveler' 'Casual Driver' 'Long-Distance Traveler'\n",
      " 'Commuter' 'Casual Driver' 'Long-Distance Traveler' 'Casual Driver'\n",
      " 'Long-Distance Traveler' 'Casual Driver' 'Casual Driver' 'Casual Driver'\n",
      " 'Commuter' 'Commuter' 'Commuter' 'Long-Distance Traveler'\n",
      " 'Long-Distance Traveler' 'Commuter' 'Long-Distance Traveler' 'Commuter'\n",
      " 'Casual Driver' 'Casual Driver' 'Commuter' 'Long-Distance Traveler'\n",
      " 'Casual Driver' 'Long-Distance Traveler' 'Commuter'\n",
      " 'Long-Distance Traveler' 'Casual Driver' 'Casual Driver'\n",
      " 'Long-Distance Traveler' 'Commuter' 'Casual Driver'\n",
      " 'Long-Distance Traveler' 'Long-Distance Traveler'\n",
      " 'Long-Distance Traveler' 'Long-Distance Traveler' 'Commuter'\n",
      " 'Casual Driver' 'Commuter' 'Long-Distance Traveler'\n",
      " 'Long-Distance Traveler' 'Casual Driver' 'Long-Distance Traveler'\n",
      " 'Commuter' 'Casual Driver' 'Commuter' 'Long-Distance Traveler' 'Commuter'\n",
      " 'Commuter' 'Long-Distance Traveler' 'Commuter' 'Commuter' 'Casual Driver'\n",
      " 'Casual Driver' 'Long-Distance Traveler' 'Commuter' 'Casual Driver'\n",
      " 'Long-Distance Traveler' 'Commuter' 'Commuter' 'Commuter' 'Casual Driver'\n",
      " 'Casual Driver' 'Casual Driver' 'Casual Driver' 'Commuter'\n",
      " 'Casual Driver' 'Long-Distance Traveler' 'Casual Driver' 'Commuter'\n",
      " 'Commuter' 'Long-Distance Traveler' 'Commuter' 'Long-Distance Traveler'\n",
      " 'Casual Driver' 'Casual Driver' 'Long-Distance Traveler' 'Commuter'\n",
      " 'Commuter' 'Casual Driver' 'Casual Driver' 'Long-Distance Traveler'\n",
      " 'Casual Driver' 'Commuter' 'Long-Distance Traveler' 'Commuter'\n",
      " 'Casual Driver' 'Commuter' 'Commuter' 'Casual Driver' 'Commuter'\n",
      " 'Commuter' 'Commuter' 'Long-Distance Traveler' 'Commuter' 'Casual Driver'\n",
      " 'Casual Driver' 'Casual Driver' 'Casual Driver' 'Commuter'\n",
      " 'Long-Distance Traveler' 'Commuter' 'Commuter' 'Casual Driver'\n",
      " 'Casual Driver' 'Commuter' 'Long-Distance Traveler'\n",
      " 'Long-Distance Traveler' 'Commuter' 'Long-Distance Traveler'\n",
      " 'Casual Driver' 'Long-Distance Traveler' 'Casual Driver' 'Commuter'\n",
      " 'Long-Distance Traveler' 'Commuter' 'Commuter' 'Long-Distance Traveler'\n",
      " 'Casual Driver' 'Casual Driver' 'Casual Driver' 'Casual Driver'\n",
      " 'Casual Driver' 'Long-Distance Traveler' 'Long-Distance Traveler'\n",
      " 'Casual Driver' 'Commuter' 'Commuter' 'Casual Driver' 'Casual Driver'\n",
      " 'Casual Driver' 'Commuter' 'Long-Distance Traveler' 'Casual Driver'\n",
      " 'Commuter' 'Long-Distance Traveler' 'Commuter' 'Commuter' 'Casual Driver'\n",
      " 'Casual Driver' 'Long-Distance Traveler' 'Casual Driver' 'Casual Driver'\n",
      " 'Commuter' 'Commuter' 'Casual Driver' 'Commuter' 'Commuter'\n",
      " 'Casual Driver' 'Commuter' 'Long-Distance Traveler' 'Commuter'\n",
      " 'Casual Driver' 'Long-Distance Traveler' 'Long-Distance Traveler'\n",
      " 'Casual Driver' 'Long-Distance Traveler' 'Casual Driver'\n",
      " 'Long-Distance Traveler' 'Commuter' 'Commuter' 'Casual Driver' 'Commuter'\n",
      " 'Long-Distance Traveler' 'Commuter' 'Casual Driver' 'Casual Driver'\n",
      " 'Casual Driver' 'Casual Driver' 'Long-Distance Traveler'\n",
      " 'Long-Distance Traveler' 'Commuter' 'Commuter' 'Casual Driver'\n",
      " 'Long-Distance Traveler' 'Commuter' 'Casual Driver' 'Commuter'\n",
      " 'Long-Distance Traveler' 'Commuter' 'Long-Distance Traveler'\n",
      " 'Long-Distance Traveler' 'Long-Distance Traveler' 'Commuter'\n",
      " 'Casual Driver' 'Commuter' 'Casual Driver' 'Long-Distance Traveler'\n",
      " 'Commuter' 'Commuter' 'Long-Distance Traveler' 'Casual Driver'\n",
      " 'Long-Distance Traveler' 'Long-Distance Traveler' 'Commuter'\n",
      " 'Long-Distance Traveler' 'Commuter' 'Commuter' 'Long-Distance Traveler'\n",
      " 'Long-Distance Traveler' 'Long-Distance Traveler' 'Commuter' 'Commuter'\n",
      " 'Long-Distance Traveler' 'Commuter' 'Long-Distance Traveler' 'Commuter'\n",
      " 'Casual Driver' 'Casual Driver' 'Commuter' 'Commuter' 'Casual Driver'\n",
      " 'Casual Driver' 'Long-Distance Traveler' 'Casual Driver' 'Casual Driver'\n",
      " 'Casual Driver' 'Long-Distance Traveler' 'Casual Driver'\n",
      " 'Long-Distance Traveler' 'Casual Driver']\n"
     ]
    }
   ],
   "source": [
    "y_predicao = modeloarvoredecisao.predict(X_teste)\n",
    "print(y_predicao)"
   ]
  },
  {
   "cell_type": "markdown",
   "metadata": {},
   "source": [
    "# Acurácia e outras métricas da predição"
   ]
  },
  {
   "cell_type": "code",
   "execution_count": 39,
   "metadata": {},
   "outputs": [],
   "source": [
    "from sklearn import metrics"
   ]
  },
  {
   "cell_type": "code",
   "execution_count": 40,
   "metadata": {
    "scrolled": true
   },
   "outputs": [
    {
     "name": "stdout",
     "output_type": "stream",
     "text": [
      "Acurácia: 0.31313131313131315\n",
      "Precisão: [0.26315789 0.35036496 0.32539683]\n",
      "Recall: [0.2892562  0.31788079 0.33064516]\n",
      "F1-score: [0.27559055 0.33333333 0.328     ]\n"
     ]
    }
   ],
   "source": [
    "print(\"Acurácia:\",metrics.accuracy_score(y_teste, y_predicao))\n",
    "print(\"Precisão:\",metrics.precision_score(y_teste, y_predicao, average=None))\n",
    "print(\"Recall:\",metrics.recall_score(y_teste, y_predicao, average=None))\n",
    "print(\"F1-score:\",metrics.f1_score(y_teste, y_predicao, average=None))"
   ]
  },
  {
   "cell_type": "markdown",
   "metadata": {},
   "source": [
    "# Relatório da Predição"
   ]
  },
  {
   "cell_type": "code",
   "execution_count": 41,
   "metadata": {},
   "outputs": [],
   "source": [
    "from sklearn.metrics import classification_report"
   ]
  },
  {
   "cell_type": "code",
   "execution_count": 42,
   "metadata": {},
   "outputs": [
    {
     "name": "stdout",
     "output_type": "stream",
     "text": [
      "                        precision    recall  f1-score   support\n",
      "\n",
      "         Casual Driver       0.26      0.29      0.28       121\n",
      "              Commuter       0.35      0.32      0.33       151\n",
      "Long-Distance Traveler       0.33      0.33      0.33       124\n",
      "\n",
      "              accuracy                           0.31       396\n",
      "             macro avg       0.31      0.31      0.31       396\n",
      "          weighted avg       0.32      0.31      0.31       396\n",
      "\n"
     ]
    }
   ],
   "source": [
    "print(classification_report(y_teste, y_predicao))"
   ]
  },
  {
   "cell_type": "markdown",
   "metadata": {},
   "source": [
    "# Matriz de Confusão"
   ]
  },
  {
   "cell_type": "code",
   "execution_count": 43,
   "metadata": {},
   "outputs": [
    {
     "ename": "ValueError",
     "evalue": "At least one label specified must be in y_true",
     "output_type": "error",
     "traceback": [
      "\u001b[0;31m---------------------------------------------------------------------------\u001b[0m",
      "\u001b[0;31mValueError\u001b[0m                                Traceback (most recent call last)",
      "Cell \u001b[0;32mIn[43], line 2\u001b[0m\n\u001b[1;32m      1\u001b[0m labels \u001b[38;5;241m=\u001b[39m [\u001b[38;5;124m'\u001b[39m\u001b[38;5;124mBMW i3\u001b[39m\u001b[38;5;124m'\u001b[39m,\u001b[38;5;124m'\u001b[39m\u001b[38;5;124mChevy Bolt\u001b[39m\u001b[38;5;124m'\u001b[39m, \u001b[38;5;124m'\u001b[39m\u001b[38;5;124mHyundai Kona\u001b[39m\u001b[38;5;124m'\u001b[39m, \u001b[38;5;124m'\u001b[39m\u001b[38;5;124mNissan Leaf\u001b[39m\u001b[38;5;124m'\u001b[39m, \u001b[38;5;124m'\u001b[39m\u001b[38;5;124mTesla Model 3\u001b[39m\u001b[38;5;124m'\u001b[39m]\n\u001b[0;32m----> 2\u001b[0m matrizconfusao \u001b[38;5;241m=\u001b[39m \u001b[43mmetrics\u001b[49m\u001b[38;5;241;43m.\u001b[39;49m\u001b[43mconfusion_matrix\u001b[49m\u001b[43m(\u001b[49m\u001b[43my_teste\u001b[49m\u001b[43m,\u001b[49m\u001b[43m \u001b[49m\u001b[43my_predicao\u001b[49m\u001b[43m,\u001b[49m\u001b[43m \u001b[49m\u001b[43mlabels\u001b[49m\u001b[38;5;241;43m=\u001b[39;49m\u001b[43mlabels\u001b[49m\u001b[43m)\u001b[49m\n\u001b[1;32m      4\u001b[0m \u001b[38;5;28mprint\u001b[39m(matrizconfusao)\n",
      "File \u001b[0;32m~/Documents/datascience/topicos-4/.venv/lib/python3.11/site-packages/sklearn/utils/_param_validation.py:213\u001b[0m, in \u001b[0;36mvalidate_params.<locals>.decorator.<locals>.wrapper\u001b[0;34m(*args, **kwargs)\u001b[0m\n\u001b[1;32m    207\u001b[0m \u001b[38;5;28;01mtry\u001b[39;00m:\n\u001b[1;32m    208\u001b[0m     \u001b[38;5;28;01mwith\u001b[39;00m config_context(\n\u001b[1;32m    209\u001b[0m         skip_parameter_validation\u001b[38;5;241m=\u001b[39m(\n\u001b[1;32m    210\u001b[0m             prefer_skip_nested_validation \u001b[38;5;129;01mor\u001b[39;00m global_skip_validation\n\u001b[1;32m    211\u001b[0m         )\n\u001b[1;32m    212\u001b[0m     ):\n\u001b[0;32m--> 213\u001b[0m         \u001b[38;5;28;01mreturn\u001b[39;00m \u001b[43mfunc\u001b[49m\u001b[43m(\u001b[49m\u001b[38;5;241;43m*\u001b[39;49m\u001b[43margs\u001b[49m\u001b[43m,\u001b[49m\u001b[43m \u001b[49m\u001b[38;5;241;43m*\u001b[39;49m\u001b[38;5;241;43m*\u001b[39;49m\u001b[43mkwargs\u001b[49m\u001b[43m)\u001b[49m\n\u001b[1;32m    214\u001b[0m \u001b[38;5;28;01mexcept\u001b[39;00m InvalidParameterError \u001b[38;5;28;01mas\u001b[39;00m e:\n\u001b[1;32m    215\u001b[0m     \u001b[38;5;66;03m# When the function is just a wrapper around an estimator, we allow\u001b[39;00m\n\u001b[1;32m    216\u001b[0m     \u001b[38;5;66;03m# the function to delegate validation to the estimator, but we replace\u001b[39;00m\n\u001b[1;32m    217\u001b[0m     \u001b[38;5;66;03m# the name of the estimator by the name of the function in the error\u001b[39;00m\n\u001b[1;32m    218\u001b[0m     \u001b[38;5;66;03m# message to avoid confusion.\u001b[39;00m\n\u001b[1;32m    219\u001b[0m     msg \u001b[38;5;241m=\u001b[39m re\u001b[38;5;241m.\u001b[39msub(\n\u001b[1;32m    220\u001b[0m         \u001b[38;5;124mr\u001b[39m\u001b[38;5;124m\"\u001b[39m\u001b[38;5;124mparameter of \u001b[39m\u001b[38;5;124m\\\u001b[39m\u001b[38;5;124mw+ must be\u001b[39m\u001b[38;5;124m\"\u001b[39m,\n\u001b[1;32m    221\u001b[0m         \u001b[38;5;124mf\u001b[39m\u001b[38;5;124m\"\u001b[39m\u001b[38;5;124mparameter of \u001b[39m\u001b[38;5;132;01m{\u001b[39;00mfunc\u001b[38;5;241m.\u001b[39m\u001b[38;5;18m__qualname__\u001b[39m\u001b[38;5;132;01m}\u001b[39;00m\u001b[38;5;124m must be\u001b[39m\u001b[38;5;124m\"\u001b[39m,\n\u001b[1;32m    222\u001b[0m         \u001b[38;5;28mstr\u001b[39m(e),\n\u001b[1;32m    223\u001b[0m     )\n",
      "File \u001b[0;32m~/Documents/datascience/topicos-4/.venv/lib/python3.11/site-packages/sklearn/metrics/_classification.py:356\u001b[0m, in \u001b[0;36mconfusion_matrix\u001b[0;34m(y_true, y_pred, labels, sample_weight, normalize)\u001b[0m\n\u001b[1;32m    354\u001b[0m         \u001b[38;5;28;01mreturn\u001b[39;00m np\u001b[38;5;241m.\u001b[39mzeros((n_labels, n_labels), dtype\u001b[38;5;241m=\u001b[39m\u001b[38;5;28mint\u001b[39m)\n\u001b[1;32m    355\u001b[0m     \u001b[38;5;28;01melif\u001b[39;00m \u001b[38;5;28mlen\u001b[39m(np\u001b[38;5;241m.\u001b[39mintersect1d(y_true, labels)) \u001b[38;5;241m==\u001b[39m \u001b[38;5;241m0\u001b[39m:\n\u001b[0;32m--> 356\u001b[0m         \u001b[38;5;28;01mraise\u001b[39;00m \u001b[38;5;167;01mValueError\u001b[39;00m(\u001b[38;5;124m\"\u001b[39m\u001b[38;5;124mAt least one label specified must be in y_true\u001b[39m\u001b[38;5;124m\"\u001b[39m)\n\u001b[1;32m    358\u001b[0m \u001b[38;5;28;01mif\u001b[39;00m sample_weight \u001b[38;5;129;01mis\u001b[39;00m \u001b[38;5;28;01mNone\u001b[39;00m:\n\u001b[1;32m    359\u001b[0m     sample_weight \u001b[38;5;241m=\u001b[39m np\u001b[38;5;241m.\u001b[39mones(y_true\u001b[38;5;241m.\u001b[39mshape[\u001b[38;5;241m0\u001b[39m], dtype\u001b[38;5;241m=\u001b[39mnp\u001b[38;5;241m.\u001b[39mint64)\n",
      "\u001b[0;31mValueError\u001b[0m: At least one label specified must be in y_true"
     ]
    }
   ],
   "source": [
    "labels = ['BMW i3','Chevy Bolt', 'Hyundai Kona', 'Nissan Leaf', 'Tesla Model 3']\n",
    "matrizconfusao = metrics.confusion_matrix(y_teste, y_predicao, labels=labels)\n",
    "\n",
    "print(matrizconfusao)"
   ]
  },
  {
   "cell_type": "code",
   "execution_count": null,
   "metadata": {
    "scrolled": true
   },
   "outputs": [],
   "source": [
    "import seaborn as sns\n",
    "import matplotlib.pyplot as plt"
   ]
  },
  {
   "cell_type": "code",
   "execution_count": null,
   "metadata": {},
   "outputs": [],
   "source": [
    "ax= plt.subplot()\n",
    "sns.heatmap(matrizconfusao, annot=True, ax = ax);\n",
    "\n",
    "# labels, title and ticks\n",
    "ax.set_xlabel('Predição');\n",
    "ax.set_ylabel('Valor Real'); \n",
    "ax.set_title('Matriz de Confusão'); \n",
    "ax.xaxis.set_ticklabels( labels ); \n",
    "ax.yaxis.set_ticklabels( labels );"
   ]
  }
 ],
 "metadata": {
  "kernelspec": {
   "display_name": "Python 3",
   "language": "python",
   "name": "python3"
  },
  "language_info": {
   "codemirror_mode": {
    "name": "ipython",
    "version": 3
   },
   "file_extension": ".py",
   "mimetype": "text/x-python",
   "name": "python",
   "nbconvert_exporter": "python",
   "pygments_lexer": "ipython3",
   "version": "3.11.9"
  }
 },
 "nbformat": 4,
 "nbformat_minor": 2
}
