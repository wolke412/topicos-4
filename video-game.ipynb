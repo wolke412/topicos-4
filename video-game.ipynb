{
 "cells": [
  {
   "cell_type": "code",
   "execution_count": 1,
   "metadata": {},
   "outputs": [],
   "source": [
    "\n",
    "import pandas as pd\n",
    "import numpy as np\n",
    "\n",
    "import seaborn as sns\n",
    "import matplotlib.pyplot as plt"
   ]
  },
  {
   "cell_type": "code",
   "execution_count": 2,
   "metadata": {},
   "outputs": [],
   "source": [
    "# Carrega o dataset como dataframe\n",
    "df = pd.read_csv('dataset/video_games_2016.csv')"
   ]
  },
  {
   "cell_type": "code",
   "execution_count": 3,
   "metadata": {},
   "outputs": [],
   "source": [
    "# Remove outliers\n",
    "Q1 = df['Global_Sales'].quantile(0.00)\n",
    "Q3 = df['Global_Sales'].quantile(0.98)\n",
    "\n",
    "df = df[(df['Global_Sales'] >= Q1 ) & (df['Global_Sales'] <= Q3 )]"
   ]
  },
  {
   "cell_type": "code",
   "execution_count": 4,
   "metadata": {},
   "outputs": [],
   "source": [
    "# Cria coluna com a região que mais vendeu\n",
    "column_to_number = {\n",
    "    'NA_Sales':    \"NA\",\n",
    "    'EU_Sales':    \"EU\",\n",
    "    'JP_Sales':    \"JP\",\n",
    "    'Other_Sales': \"Outro\" \n",
    "}\n",
    "\n",
    "df['Greatest'] = df[['NA_Sales', 'EU_Sales', 'JP_Sales', 'Other_Sales']].idxmax(axis=1).map(column_to_number)"
   ]
  },
  {
   "cell_type": "code",
   "execution_count": 35,
   "metadata": {},
   "outputs": [
    {
     "name": "stdout",
     "output_type": "stream",
     "text": [
      "       Critic_Score Critic_Classification\n",
      "335            85.0                     8\n",
      "336            91.0                     9\n",
      "337            88.0                     8\n",
      "338            81.0                     8\n",
      "339             0.0                     0\n",
      "...             ...                   ...\n",
      "16714           0.0                     0\n",
      "16715           0.0                     0\n",
      "16716           0.0                     0\n",
      "16717           0.0                     0\n",
      "16718           0.0                     0\n",
      "\n",
      "[16384 rows x 2 columns]\n"
     ]
    }
   ],
   "source": [
    "# Transforma colunas categóricas em valores numéricos\n",
    "# necessários para utilização de árvore de decisão\n",
    "\n",
    "df[\"Publisher\"] = df[\"Publisher\"].fillna(\"NA\").astype('category').cat.codes\n",
    "df[\"Platform\"]  = df[\"Platform\"].fillna(\"NA\").astype('category').cat.codes\n",
    "df[\"Genre\"]     = df[\"Genre\"].fillna(\"NA\").astype('category').cat.codes\n",
    "df[\"Developer\"] = df[\"Developer\"].fillna(\"NA\").astype('category').cat.codes\n",
    "# df[\"Greatest\"]  = df[\"Greatest\"].astype('category').cat.codes\n",
    "df[\"Rating\"]    = df[\"Rating\"].astype('category').cat.codes\n",
    "\n",
    "# Preenche os NAs com 0\n",
    "df[\"Critic_Score\"] = df[\"Critic_Score\"].fillna(0)\n",
    "df[\"Critic_Count\"] = df[\"Critic_Count\"].fillna(0)\n",
    "df[\"JP_Sales\"]     = df[\"JP_Sales\"].fillna(0)\n",
    "\n",
    "# df = df.dropna()\n",
    "\n",
    "df['Critic_Classification'] = pd.cut(df['Critic_Score'], bins=10, labels=[x for x in range(0, 10)] )\n",
    "df['Critic_Count_Classification'] = pd.cut(df['Critic_Count'], bins=4, labels=[1, 2, 3, 4])\n",
    "\n",
    "# df.fillna(\"NA\")\n",
    "df[\"Year_of_Release\"] = df[\"Year_of_Release\"].fillna(2000);\n",
    "\n",
    "print( df[[\"Critic_Score\", \"Critic_Classification\"]] )\n"
   ]
  },
  {
   "cell_type": "code",
   "execution_count": 36,
   "metadata": {},
   "outputs": [],
   "source": [
    "# Arvore baseada em\n",
    "X = np.array(df[[\n",
    "    \"Publisher\",\n",
    "    \"Platform\", \n",
    "    \"Genre\",\n",
    "    \"Developer\",\n",
    "    # \"Rating\",\n",
    "    \"Year_of_Release\",\n",
    "    \"Critic_Classification\"\n",
    "]])\n",
    "\n",
    "# Saída : NA | EU | JP | Outros\n",
    "y = np.array(df['Greatest'])"
   ]
  },
  {
   "cell_type": "code",
   "execution_count": 37,
   "metadata": {},
   "outputs": [],
   "source": [
    "from sklearn import tree\n",
    "from sklearn.model_selection import train_test_split\n",
    "\n",
    "# Dividindo os conjuntos de treinamento e teste\n",
    "X_treinamento, X_teste, y_treinamento, y_teste = train_test_split(X, y, test_size=0.3)\n",
    "\n",
    "modeloarvoredecisao = tree.DecisionTreeClassifier(criterion='entropy', class_weight=\"balanced\")     "
   ]
  },
  {
   "cell_type": "code",
   "execution_count": 38,
   "metadata": {},
   "outputs": [
    {
     "name": "stdout",
     "output_type": "stream",
     "text": [
      "Gradient Model Accuracy: 0.8342148087876322\n",
      "\n",
      "Classification Report:\n",
      "               precision    recall  f1-score   support\n",
      "\n",
      "          EU       0.74      0.54      0.62       678\n",
      "          JP       0.82      0.82      0.82      1196\n",
      "          NA       0.86      0.91      0.88      3027\n",
      "       Outro       0.31      0.33      0.32        15\n",
      "\n",
      "    accuracy                           0.83      4916\n",
      "   macro avg       0.68      0.65      0.66      4916\n",
      "weighted avg       0.83      0.83      0.83      4916\n",
      "\n"
     ]
    }
   ],
   "source": [
    "from sklearn.ensemble import GradientBoostingClassifier\n",
    "from sklearn.metrics import accuracy_score, classification_report\n",
    "\n",
    "gradient_boost = GradientBoostingClassifier(\n",
    "    n_estimators=400,\n",
    "    learning_rate=0.1,\n",
    "    max_depth=3,\n",
    "    random_state=0\n",
    ")\n",
    "\n",
    "gradient_boost.fit(X_treinamento, y_treinamento)\n",
    "y_pred = gradient_boost.predict(X_teste) \n",
    "\n",
    "accuracy = accuracy_score(y_teste, y_pred)\n",
    "\n",
    "print(\"Gradient Model Accuracy:\", accuracy)\n",
    "print(\"\\nClassification Report:\\n\", classification_report(y_teste, y_pred))"
   ]
  },
  {
   "cell_type": "code",
   "execution_count": 39,
   "metadata": {},
   "outputs": [
    {
     "data": {
      "text/plain": [
       "0.9843041506801534"
      ]
     },
     "execution_count": 39,
     "metadata": {},
     "output_type": "execute_result"
    }
   ],
   "source": [
    "modeloarvoredecisao.fit(X_treinamento, y_treinamento)\n",
    "modeloarvoredecisao.score(X_treinamento, y_treinamento)"
   ]
  },
  {
   "cell_type": "code",
   "execution_count": 40,
   "metadata": {},
   "outputs": [
    {
     "name": "stdout",
     "output_type": "stream",
     "text": [
      "Acurácia: 0.7711554109031733\n",
      "Precisão: [0.55538695 0.74062251 0.83529017 0.30434783]\n",
      "Recall: [0.53982301 0.77591973 0.82259663 0.46666667]\n",
      "F1-score: [0.54749439 0.75786035 0.82889481 0.36842105]\n"
     ]
    }
   ],
   "source": [
    "from sklearn import metrics\n",
    "\n",
    "\n",
    "y_predicao = modeloarvoredecisao.predict(X_teste)\n",
    "\n",
    "print(\"Acurácia:\",metrics.accuracy_score(y_teste, y_predicao))\n",
    "print(\"Precisão:\",metrics.precision_score(y_teste, y_predicao, average=None))\n",
    "print(\"Recall:\",metrics.recall_score(y_teste, y_predicao, average=None))\n",
    "print(\"F1-score:\",metrics.f1_score(y_teste, y_predicao, average=None))"
   ]
  },
  {
   "cell_type": "code",
   "execution_count": null,
   "metadata": {},
   "outputs": [],
   "source": [
    "labels = [\"NA\", \"EU\", \"JP\", \"Outro\"]\n",
    "\n",
    "matrizconfusao = metrics.confusion_matrix(y_teste, y_predicao, labels=labels)\n",
    "\n",
    "ax = plt.subplot()\n",
    "\n",
    "sns.heatmap(matrizconfusao, annot=True, ax = ax);\n",
    "\n",
    "# labels, title and ticks\n",
    "ax.set_xlabel('Predição');\n",
    "ax.set_ylabel('Valor Real'); \n",
    "ax.set_title('Matriz de Confusão'); \n",
    "ax.xaxis.set_ticklabels( labels ); \n",
    "ax.yaxis.set_ticklabels( labels );"
   ]
  }
 ],
 "metadata": {
  "kernelspec": {
   "display_name": ".venv",
   "language": "python",
   "name": "python3"
  },
  "language_info": {
   "codemirror_mode": {
    "name": "ipython",
    "version": 3
   },
   "file_extension": ".py",
   "mimetype": "text/x-python",
   "name": "python",
   "nbconvert_exporter": "python",
   "pygments_lexer": "ipython3",
   "version": "3.11.9"
  }
 },
 "nbformat": 4,
 "nbformat_minor": 2
}
